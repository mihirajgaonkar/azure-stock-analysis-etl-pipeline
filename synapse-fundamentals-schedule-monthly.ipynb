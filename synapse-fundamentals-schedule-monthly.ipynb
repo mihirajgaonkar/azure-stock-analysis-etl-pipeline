{
  "cells": [
    {
      "cell_type": "code",
      "execution_count": 1,
      "metadata": {
        "jupyter": {
          "outputs_hidden": false,
          "source_hidden": false
        },
        "nteract": {
          "transient": {
            "deleting": false
          }
        }
      },
      "outputs": [
        {
          "data": {
            "application/vnd.livy.statement-meta+json": {
              "execution_finish_time": "2024-06-30T18:15:28.2170159Z",
              "execution_start_time": "2024-06-30T18:15:14.4457109Z",
              "livy_statement_state": "available",
              "parent_msg_id": "a3a6b02a-428b-4a85-b902-1cbc8df7e81a",
              "queued_time": "2024-06-30T18:13:51.1711961Z",
              "session_id": "6",
              "session_start_time": "2024-06-30T18:13:51.2212726Z",
              "spark_jobs": null,
              "spark_pool": "mysparkpool",
              "state": "finished",
              "statement_id": 2,
              "statement_ids": [
                2
              ]
            },
            "text/plain": [
              "StatementMeta(mysparkpool, 6, 2, Finished, Available)"
            ]
          },
          "metadata": {},
          "output_type": "display_data"
        }
      ],
      "source": [
        "from datetime import datetime, timedelta\n",
        "import pandas as pd\n",
        "import json\n",
        "import numpy as np\n",
        "import logging\n",
        "from azure.storage.blob import BlobServiceClient\n",
        "\n",
        "# Set up the connection string and container names\n",
        "connect_str = \"*****Enter blob storage connection string*****\"\n",
        "input_container_name = '**** Enter container name where json files are stored *****'\n",
        "output_container_name = '**** Enter container name to output CSV files *****'\n",
        "\n",
        "blob_service_client = BlobServiceClient.from_connection_string(connect_str)\n",
        "container_client = blob_service_client.get_container_client(input_container_name)\n",
        "output_container_client = blob_service_client.get_container_client(output_container_name)\n"
      ]
    },
    {
      "cell_type": "code",
      "execution_count": 2,
      "metadata": {
        "jupyter": {
          "outputs_hidden": false,
          "source_hidden": false
        },
        "nteract": {
          "transient": {
            "deleting": false
          }
        }
      },
      "outputs": [
        {
          "data": {
            "application/vnd.livy.statement-meta+json": {
              "execution_finish_time": "2024-06-30T18:15:28.5167267Z",
              "execution_start_time": "2024-06-30T18:15:28.3424958Z",
              "livy_statement_state": "available",
              "parent_msg_id": "079bd90f-71cc-402c-bb2f-e2d3e6dbd88d",
              "queued_time": "2024-06-30T18:13:51.1719458Z",
              "session_id": "6",
              "session_start_time": null,
              "spark_jobs": null,
              "spark_pool": "mysparkpool",
              "state": "finished",
              "statement_id": 3,
              "statement_ids": [
                3
              ]
            },
            "text/plain": [
              "StatementMeta(mysparkpool, 6, 3, Finished, Available)"
            ]
          },
          "metadata": {},
          "output_type": "display_data"
        }
      ],
      "source": [
        "SYMBOLS = [\n",
        "    'AAPL', 'ABBV', 'ABT', 'ACN', 'AIG', 'AMGN', 'AMT', 'AMZN', 'AXP', 'BA', 'BAC', 'BK', 'BKNG', 'BLK', \n",
        "    'BMY', 'BRK.B', 'C', 'CAT', 'CHTR', 'CL', 'CMCSA', 'COF', 'COP', 'COST', 'CRM', 'CSCO', 'CVS', 'CVX', \n",
        "    'DHR', 'DIS', 'DUK', 'DOW', 'EMR', 'EXC', 'F', 'FDX', 'GD', 'GE', 'GILD', 'GM', 'GOOGL', 'GS', 'HD', \n",
        "    'HON', 'IBM', 'INTC', 'JNJ', 'JPM', 'KHC', 'KMI', 'KO', 'LMT', 'LOW', 'MA', 'MCD', 'MDLZ', 'MDT', \n",
        "    'MET', 'META', 'MMM', 'MO', 'MRK', 'MS', 'MSFT', 'NEE', 'NFLX', 'NKE', 'NVDA', 'ORCL', 'PEP', 'PFE', \n",
        "    'PG', 'PM', 'PYPL', 'QCOM', 'RTX', 'SBUX', 'SO', 'SPG', 'T', 'TGT', 'TJX', 'TMO', 'TMUS', 'TSLA', \n",
        "    'TXN', 'UNH', 'UNP', 'UPS', 'USB', 'V', 'VZ', 'WBA', 'WFC', 'WMT', 'XOM']"
      ]
    },
    {
      "cell_type": "code",
      "execution_count": 3,
      "metadata": {
        "jupyter": {
          "outputs_hidden": false,
          "source_hidden": false
        },
        "nteract": {
          "transient": {
            "deleting": false
          }
        }
      },
      "outputs": [
        {
          "data": {
            "application/vnd.livy.statement-meta+json": {
              "execution_finish_time": "2024-06-30T18:15:30.4870983Z",
              "execution_start_time": "2024-06-30T18:15:28.6420207Z",
              "livy_statement_state": "available",
              "parent_msg_id": "6ee6a209-c892-4510-9c15-ee0c2059444c",
              "queued_time": "2024-06-30T18:13:51.1726576Z",
              "session_id": "6",
              "session_start_time": null,
              "spark_jobs": null,
              "spark_pool": "mysparkpool",
              "state": "finished",
              "statement_id": 4,
              "statement_ids": [
                4
              ]
            },
            "text/plain": [
              "StatementMeta(mysparkpool, 6, 4, Finished, Available)"
            ]
          },
          "metadata": {},
          "output_type": "display_data"
        },
        {
          "data": {
            "text/plain": [
              "{'etag': '\"0x8DC9930A006BE48\"',\n",
              " 'last_modified': datetime.datetime(2024, 6, 30, 18, 15, 30, tzinfo=datetime.timezone.utc),\n",
              " 'content_md5': bytearray(b'\\xd0\\x18mzx\\xba2\\x9c\\x05\\xa8\\x07\\x13\\xe4B\\xd7V'),\n",
              " 'client_request_id': 'bbd07ff6-370c-11ef-b9db-6045bd847db6',\n",
              " 'request_id': '617caf08-401e-000e-1919-cbd993000000',\n",
              " 'version': '2023-11-03',\n",
              " 'version_id': None,\n",
              " 'date': datetime.datetime(2024, 6, 30, 18, 15, 29, tzinfo=datetime.timezone.utc),\n",
              " 'request_server_encrypted': True,\n",
              " 'encryption_key_sha256': None,\n",
              " 'encryption_scope': None}"
            ]
          },
          "execution_count": 9,
          "metadata": {},
          "output_type": "execute_result"
        }
      ],
      "source": [
        "data = {\n",
        "    'Symbol': [],\n",
        "    'Name': [],\n",
        "    'Industry': [],\n",
        "    'EPS (fwd)': [],\n",
        "    'P/E (fwd)': [],\n",
        "    'PEG': [],\n",
        "    'FCFY': [],\n",
        "    'PB': [],\n",
        "    'ROE': [],\n",
        "    'P/S (trail)': [],\n",
        "    'DPR': [],\n",
        "    'DY': [],\n",
        "    'CR': [],\n",
        "    'Beta': [],\n",
        "    'Price': [],\n",
        "    '52w Low': [],\n",
        "    '52w High': []\n",
        "}\n",
        "\n",
        "# Function to append data to dictionary\n",
        "def load_data(json_data):\n",
        "    data['Symbol'].append(json_data.get('symbol'))\n",
        "    data['Name'].append(json_data.get('longName'))\n",
        "    data['Industry'].append(json_data.get('industry'))\n",
        "    data['Price'].append(json_data.get('currentPrice'))\n",
        "\n",
        "    data['EPS (fwd)'].append(json_data.get('forwardEps', np.nan))\n",
        "    data['P/E (fwd)'].append(json_data.get('forwardPE', np.nan))\n",
        "    data['PEG'].append(json_data.get('pegRatio', np.nan))\n",
        "    data['FCFY'].append(round((json_data.get('freeCashflow', 0) / json_data.get('marketCap', 1)) * 100, 2) if json_data.get('freeCashflow') and json_data.get('marketCap') else np.nan)\n",
        "    data['PB'].append(json_data.get('priceToBook', np.nan))\n",
        "    data['ROE'].append(json_data.get('returnOnEquity', np.nan))\n",
        "    data['P/S (trail)'].append(json_data.get('priceToSalesTrailing12Months', np.nan))\n",
        "    data['DPR'].append(json_data.get('payoutRatio', np.nan) * 100 if json_data.get('payoutRatio') else np.nan)\n",
        "    data['DY'].append(json_data.get('dividendYield', 0.0))\n",
        "    data['Beta'].append(json_data.get('beta', np.nan))\n",
        "    data['CR'].append(json_data.get('currentRatio', np.nan))\n",
        "    data['52w Low'].append(json_data.get('fiftyTwoWeekLow', np.nan))\n",
        "    data['52w High'].append(json_data.get('fiftyTwoWeekHigh', np.nan))\n",
        "\n",
        "# Read and parse each JSON file from the blob storage\n",
        "for symbol in SYMBOLS:\n",
        "    blob_name = f'{symbol}.json'\n",
        "    blob_client = container_client.get_blob_client(blob_name)\n",
        "    \n",
        "    try:\n",
        "        # Download the blob content\n",
        "        blob_content = blob_client.download_blob().readall()\n",
        "        json_data = json.loads(blob_content)\n",
        "        load_data(json_data)\n",
        "    except Exception as e:\n",
        "        print(f\"An error occurred while processing {symbol}: {e}\")\n",
        "\n",
        "# Create a DataFrame\n",
        "fundamentals_df = pd.DataFrame(data)\n",
        "fundamentals_df['52w Range'] = ((fundamentals_df['Price'] - fundamentals_df['52w Low']) / (fundamentals_df['52w High'] - fundamentals_df['52w Low'])) * 100\n",
        "\n",
        "csv_data = fundamentals_df.to_csv(index=False)\n",
        "\n",
        "# Upload the CSV data to the output container\n",
        "output_blob_name = 'fundamentals.csv'\n",
        "output_blob_client = output_container_client.get_blob_client(output_blob_name)\n",
        "output_blob_client.upload_blob(csv_data, overwrite=True)"
      ]
    }
  ],
  "metadata": {
    "kernel_info": {
      "name": "synapse_pyspark"
    },
    "kernelspec": {
      "display_name": "Synapse PySpark",
      "language": "Python",
      "name": "synapse_pyspark"
    },
    "language_info": {
      "name": "python"
    },
    "save_output": true,
    "synapse_widget": {
      "state": {},
      "version": "0.1"
    }
  },
  "nbformat": 4,
  "nbformat_minor": 2
}
