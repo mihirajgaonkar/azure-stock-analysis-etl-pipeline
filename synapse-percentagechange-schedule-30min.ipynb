{
  "cells": [
    {
      "cell_type": "code",
      "execution_count": 7,
      "metadata": {
        "jupyter": {
          "outputs_hidden": false,
          "source_hidden": false
        },
        "nteract": {
          "transient": {
            "deleting": false
          }
        }
      },
      "outputs": [
        {
          "data": {
            "application/vnd.livy.statement-meta+json": {
              "execution_finish_time": "2024-06-30T18:01:35.8450433Z",
              "execution_start_time": "2024-06-30T18:01:23.3204148Z",
              "livy_statement_state": "available",
              "parent_msg_id": "2ab9949d-ee82-4461-ad67-2e312c4f67e7",
              "queued_time": "2024-06-30T18:01:23.2255773Z",
              "session_id": "5",
              "session_start_time": null,
              "spark_jobs": null,
              "spark_pool": "mysparkpool",
              "state": "finished",
              "statement_id": 22,
              "statement_ids": [
                17,
                18,
                19,
                20,
                21,
                22
              ]
            },
            "text/plain": [
              "StatementMeta(mysparkpool, 5, 22, Finished, Available)"
            ]
          },
          "metadata": {},
          "output_type": "display_data"
        },
        {
          "data": {},
          "execution_count": 7,
          "metadata": {},
          "output_type": "execute_result"
        },
        {
          "name": "stdout",
          "output_type": "stream",
          "text": [
            "Requirement already satisfied: yfinance in /nfs4/pyenv-0191a053-de68-4515-a696-3367bf4d02c7/lib/python3.10/site-packages (0.2.40)\n",
            "Requirement already satisfied: pandas>=1.3.0 in /home/trusted-service-user/cluster-env/env/lib/python3.10/site-packages (from yfinance) (1.5.3)\n",
            "Requirement already satisfied: numpy>=1.16.5 in /home/trusted-service-user/cluster-env/env/lib/python3.10/site-packages (from yfinance) (1.23.5)\n",
            "Requirement already satisfied: requests>=2.31 in /home/trusted-service-user/cluster-env/env/lib/python3.10/site-packages (from yfinance) (2.31.0)\n",
            "Requirement already satisfied: multitasking>=0.0.7 in /nfs4/pyenv-0191a053-de68-4515-a696-3367bf4d02c7/lib/python3.10/site-packages (from yfinance) (0.0.11)\n",
            "Requirement already satisfied: lxml>=4.9.1 in /home/trusted-service-user/cluster-env/env/lib/python3.10/site-packages (from yfinance) (5.1.0)\n",
            "Requirement already satisfied: platformdirs>=2.0.0 in /home/trusted-service-user/cluster-env/env/lib/python3.10/site-packages (from yfinance) (3.11.0)\n",
            "Requirement already satisfied: pytz>=2022.5 in /home/trusted-service-user/cluster-env/env/lib/python3.10/site-packages (from yfinance) (2023.4)\n",
            "Requirement already satisfied: frozendict>=2.3.4 in /nfs4/pyenv-0191a053-de68-4515-a696-3367bf4d02c7/lib/python3.10/site-packages (from yfinance) (2.4.4)\n",
            "Requirement already satisfied: peewee>=3.16.2 in /nfs4/pyenv-0191a053-de68-4515-a696-3367bf4d02c7/lib/python3.10/site-packages (from yfinance) (3.17.5)\n",
            "Requirement already satisfied: beautifulsoup4>=4.11.1 in /home/trusted-service-user/cluster-env/env/lib/python3.10/site-packages (from yfinance) (4.12.2)\n",
            "Requirement already satisfied: html5lib>=1.1 in /home/trusted-service-user/cluster-env/env/lib/python3.10/site-packages (from yfinance) (1.1)\n",
            "Requirement already satisfied: soupsieve>1.2 in /home/trusted-service-user/cluster-env/env/lib/python3.10/site-packages (from beautifulsoup4>=4.11.1->yfinance) (2.5)\n",
            "Requirement already satisfied: six>=1.9 in /home/trusted-service-user/cluster-env/env/lib/python3.10/site-packages (from html5lib>=1.1->yfinance) (1.16.0)\n",
            "Requirement already satisfied: webencodings in /home/trusted-service-user/cluster-env/env/lib/python3.10/site-packages (from html5lib>=1.1->yfinance) (0.5.1)\n",
            "Requirement already satisfied: python-dateutil>=2.8.1 in /home/trusted-service-user/cluster-env/env/lib/python3.10/site-packages (from pandas>=1.3.0->yfinance) (2.9.0)\n",
            "Requirement already satisfied: charset-normalizer<4,>=2 in /home/trusted-service-user/cluster-env/env/lib/python3.10/site-packages (from requests>=2.31->yfinance) (3.3.2)\n",
            "Requirement already satisfied: idna<4,>=2.5 in /home/trusted-service-user/cluster-env/env/lib/python3.10/site-packages (from requests>=2.31->yfinance) (3.6)\n",
            "Requirement already satisfied: urllib3<3,>=1.21.1 in /home/trusted-service-user/cluster-env/env/lib/python3.10/site-packages (from requests>=2.31->yfinance) (2.1.0)\n",
            "Requirement already satisfied: certifi>=2017.4.17 in /home/trusted-service-user/cluster-env/env/lib/python3.10/site-packages (from requests>=2.31->yfinance) (2024.2.2)\n",
            "\n",
            "\u001b[1m[\u001b[0m\u001b[34;49mnotice\u001b[0m\u001b[1;39;49m]\u001b[0m\u001b[39;49m A new release of pip is available: \u001b[0m\u001b[31;49m23.1.2\u001b[0m\u001b[39;49m -> \u001b[0m\u001b[32;49m24.1.1\u001b[0m\n",
            "\u001b[1m[\u001b[0m\u001b[34;49mnotice\u001b[0m\u001b[1;39;49m]\u001b[0m\u001b[39;49m To update, run: \u001b[0m\u001b[32;49mpython -m pip install --upgrade pip\u001b[0m\n",
            "Note: you may need to restart the kernel to use updated packages.\n"
          ]
        },
        {
          "data": {},
          "execution_count": 7,
          "metadata": {},
          "output_type": "execute_result"
        },
        {
          "name": "stdout",
          "output_type": "stream",
          "text": [
            "Warning: PySpark kernel has been restarted to use updated packages.\n",
            "\n"
          ]
        }
      ],
      "source": [
        "%pip install yfinance\n",
        "\n",
        "import yfinance as yf\n",
        "import json\n",
        "import numpy as np\n",
        "import os\n",
        "import pandas as pd\n",
        "import logging\n",
        "from azure.storage.blob import BlobServiceClient"
      ]
    },
    {
      "cell_type": "code",
      "execution_count": 8,
      "metadata": {
        "jupyter": {
          "outputs_hidden": false,
          "source_hidden": false
        },
        "nteract": {
          "transient": {
            "deleting": false
          }
        }
      },
      "outputs": [
        {
          "data": {
            "application/vnd.livy.statement-meta+json": {
              "execution_finish_time": "2024-06-30T18:01:38.1523668Z",
              "execution_start_time": "2024-06-30T18:01:37.9976907Z",
              "livy_statement_state": "available",
              "parent_msg_id": "9a845c8f-4123-4db3-92a8-39419182fc29",
              "queued_time": "2024-06-30T18:01:34.7415142Z",
              "session_id": "5",
              "session_start_time": null,
              "spark_jobs": null,
              "spark_pool": "mysparkpool",
              "state": "finished",
              "statement_id": 24,
              "statement_ids": [
                24
              ]
            },
            "text/plain": [
              "StatementMeta(mysparkpool, 5, 24, Finished, Available)"
            ]
          },
          "metadata": {},
          "output_type": "display_data"
        }
      ],
      "source": [
        "\n",
        "\n",
        "connect_str = \"**** Enter blob storage connection string ****\"\n",
        "output_container_name = '*** Enter output container name***'\n",
        "\n",
        "blob_service_client = BlobServiceClient.from_connection_string(connect_str)\n",
        "output_container_client = blob_service_client.get_container_client(output_container_name)"
      ]
    },
    {
      "cell_type": "code",
      "execution_count": 9,
      "metadata": {
        "jupyter": {
          "outputs_hidden": false,
          "source_hidden": false
        },
        "nteract": {
          "transient": {
            "deleting": false
          }
        }
      },
      "outputs": [
        {
          "data": {
            "application/vnd.livy.statement-meta+json": {
              "execution_finish_time": "2024-06-30T18:01:40.5523061Z",
              "execution_start_time": "2024-06-30T18:01:40.3891101Z",
              "livy_statement_state": "available",
              "parent_msg_id": "3d77d903-720a-47a5-a792-3980fade16ca",
              "queued_time": "2024-06-30T18:01:40.2579846Z",
              "session_id": "5",
              "session_start_time": null,
              "spark_jobs": null,
              "spark_pool": "mysparkpool",
              "state": "finished",
              "statement_id": 25,
              "statement_ids": [
                25
              ]
            },
            "text/plain": [
              "StatementMeta(mysparkpool, 5, 25, Finished, Available)"
            ]
          },
          "metadata": {},
          "output_type": "display_data"
        }
      ],
      "source": [
        "SYMBOLS = [\n",
        "    'AAPL', 'ABBV', 'ABT', 'ACN', 'AIG', 'AMGN', 'AMT', 'AMZN', 'AXP', 'BA', 'BAC', 'BK', 'BKNG', 'BLK', \n",
        "    'BMY', 'BRK.B', 'C', 'CAT', 'CHTR', 'CL', 'CMCSA', 'COF', 'COP', 'COST', 'CRM', 'CSCO', 'CVS', 'CVX', \n",
        "    'DHR', 'DIS', 'DUK', 'DOW', 'EMR', 'EXC', 'F', 'FDX', 'GD', 'GE', 'GILD', 'GM', 'GOOGL', 'GS', 'HD', \n",
        "    'HON', 'IBM', 'INTC', 'JNJ', 'JPM', 'KHC', 'KMI', 'KO', 'LMT', 'LOW', 'MA', 'MCD', 'MDLZ', 'MDT', \n",
        "    'MET', 'META', 'MMM', 'MO', 'MRK', 'MS', 'MSFT', 'NEE', 'NFLX', 'NKE', 'NVDA', 'ORCL', 'PEP', 'PFE', \n",
        "    'PG', 'PM', 'PYPL', 'QCOM', 'RTX', 'SBUX', 'SO', 'SPG', 'T', 'TGT', 'TJX', 'TMO', 'TMUS', 'TSLA', \n",
        "    'TXN', 'UNH', 'UNP', 'UPS', 'USB', 'V', 'VZ', 'WBA', 'WFC', 'WMT', 'XOM']"
      ]
    },
    {
      "cell_type": "code",
      "execution_count": 15,
      "metadata": {
        "jupyter": {
          "outputs_hidden": false,
          "source_hidden": false
        },
        "nteract": {
          "transient": {
            "deleting": false
          }
        }
      },
      "outputs": [
        {
          "data": {
            "application/vnd.livy.statement-meta+json": {
              "execution_finish_time": "2024-06-30T18:09:37.9150555Z",
              "execution_start_time": "2024-06-30T18:09:21.2264925Z",
              "livy_statement_state": "available",
              "parent_msg_id": "b135e11c-0ae3-4474-9a71-eda628ef7a27",
              "queued_time": "2024-06-30T18:09:21.1008562Z",
              "session_id": "5",
              "session_start_time": null,
              "spark_jobs": null,
              "spark_pool": "mysparkpool",
              "state": "finished",
              "statement_id": 31,
              "statement_ids": [
                31
              ]
            },
            "text/plain": [
              "StatementMeta(mysparkpool, 5, 31, Finished, Available)"
            ]
          },
          "metadata": {},
          "output_type": "display_data"
        },
        {
          "name": "stdout",
          "output_type": "stream",
          "text": [
            "BRK.B: No data found, symbol may be delisted\n"
          ]
        },
        {
          "data": {
            "text/plain": [
              "{'etag': '\"0x8DC992FCD2C7C2B\"',\n",
              " 'last_modified': datetime.datetime(2024, 6, 30, 18, 9, 36, tzinfo=datetime.timezone.utc),\n",
              " 'content_md5': bytearray(b'\\x061\\x83[\\xc6;a4\\x1d\\x8b\\xa9\\x8a\\xa3\\xb9S@'),\n",
              " 'client_request_id': 'e8ef652a-370b-11ef-afcf-6045bdbb310e',\n",
              " 'request_id': '211602a3-f01e-0024-5618-cb0683000000',\n",
              " 'version': '2023-11-03',\n",
              " 'version_id': None,\n",
              " 'date': datetime.datetime(2024, 6, 30, 18, 9, 35, tzinfo=datetime.timezone.utc),\n",
              " 'request_server_encrypted': True,\n",
              " 'encryption_key_sha256': None,\n",
              " 'encryption_scope': None}"
            ]
          },
          "execution_count": 21,
          "metadata": {},
          "output_type": "execute_result"
        }
      ],
      "source": [
        "data = []\n",
        "\n",
        "# Loop through each stock ticker\n",
        "for symbol in SYMBOLS:\n",
        "    # Download stock data for the last trading day\n",
        "    stock_data = yf.download(symbol, period=\"1d\", interval=\"1d\")\n",
        "    \n",
        "    if not stock_data.empty:\n",
        "        # Get the open price\n",
        "        open_price = stock_data[\"Open\"].iloc[0]\n",
        "        \n",
        "        # Get the current price and sector\n",
        "        stock = yf.Ticker(symbol)\n",
        "        current_price = stock.info.get('currentPrice', None)\n",
        "        sector = stock.info.get('sector', None)\n",
        "        \n",
        "        # Append the data to the list\n",
        "        data.append({\n",
        "            \"symbol\": symbol,\n",
        "            \"current_price\": current_price,\n",
        "            \"open_price\": open_price,\n",
        "            \"sector\": sector\n",
        "        })\n",
        "\n",
        "# Create a dataframe from the list\n",
        "df5 = pd.DataFrame(data)\n",
        "\n",
        "# Get the top 10 losers and print the DataFrame\n",
        "percentagechange_df = df5\n",
        "\n",
        "csv_data = percentagechange_df.to_csv(index=False)\n",
        "\n",
        "# Get the top 10 losers and print the DataFrame\n",
        "output_blob_name = 'percentagechange.csv'\n",
        "output_blob_client = output_container_client.get_blob_client(output_blob_name)\n",
        "output_blob_client.upload_blob(csv_data, overwrite=True)"
      ]
    },
    {
      "cell_type": "code",
      "execution_count": 18,
      "metadata": {},
      "outputs": [
        {
          "data": {
            "application/vnd.livy.statement-meta+json": {
              "execution_finish_time": "2024-06-30T18:12:01.4680838Z",
              "execution_start_time": "2024-06-30T18:11:55.7701992Z",
              "livy_statement_state": "available",
              "parent_msg_id": "d7560683-e1c2-4d5a-b7ff-26bdef8304d8",
              "queued_time": "2024-06-30T18:11:55.631767Z",
              "session_id": "5",
              "session_start_time": null,
              "spark_jobs": null,
              "spark_pool": "mysparkpool",
              "state": "finished",
              "statement_id": 34,
              "statement_ids": [
                34
              ]
            },
            "text/plain": [
              "StatementMeta(mysparkpool, 5, 34, Finished, Available)"
            ]
          },
          "metadata": {},
          "output_type": "display_data"
        },
        {
          "data": {
            "text/plain": [
              "{'etag': '\"0x8DC9930236857E8\"',\n",
              " 'last_modified': datetime.datetime(2024, 6, 30, 18, 12, 1, tzinfo=datetime.timezone.utc),\n",
              " 'content_md5': bytearray(b'\\x93\\xc6\\xadJ\\xc9b\"(\\x17t0L-\\xaa(\\xfb'),\n",
              " 'client_request_id': '3f2fe0f4-370c-11ef-afcf-6045bdbb310e',\n",
              " 'request_id': '2116c35b-f01e-0024-6819-cb0683000000',\n",
              " 'version': '2023-11-03',\n",
              " 'version_id': None,\n",
              " 'date': datetime.datetime(2024, 6, 30, 18, 12, 1, tzinfo=datetime.timezone.utc),\n",
              " 'request_server_encrypted': True,\n",
              " 'encryption_key_sha256': None,\n",
              " 'encryption_scope': None}"
            ]
          },
          "execution_count": 27,
          "metadata": {},
          "output_type": "execute_result"
        }
      ],
      "source": [
        "\n",
        "\n",
        "# Initialize an empty list to store the data\n",
        "stock_data = []\n",
        "\n",
        "# Fetch the stock information for each ticker\n",
        "for ticker in SYMBOLS:\n",
        "    stock_info = yf.Ticker(ticker).info\n",
        "    stock_data.append({\n",
        "        'Symbol': stock_info.get('symbol'),\n",
        "        'Name': stock_info.get('shortName'),\n",
        "        'Sector': stock_info.get('sector'),\n",
        "        'Summary': stock_info.get('longBusinessSummary')\n",
        "    })\n",
        "\n",
        "# Convert the list of dictionaries to a pandas DataFrame\n",
        "df1 = pd.DataFrame(stock_data)\n",
        "\n",
        "csv_data = df1.to_csv(index=False)\n",
        "\n",
        "# Display the DataFrame\n",
        "output_blob_name = 'stock_info.csv'\n",
        "output_blob_client = output_container_client.get_blob_client(output_blob_name)\n",
        "output_blob_client.upload_blob(csv_data, overwrite=True)"
      ]
    }
  ],
  "metadata": {
    "kernel_info": {
      "name": "synapse_pyspark"
    },
    "kernelspec": {
      "display_name": "Synapse PySpark",
      "language": "Python",
      "name": "synapse_pyspark"
    },
    "language_info": {
      "name": "python"
    },
    "save_output": true,
    "synapse_widget": {
      "state": {},
      "version": "0.1"
    }
  },
  "nbformat": 4,
  "nbformat_minor": 2
}
